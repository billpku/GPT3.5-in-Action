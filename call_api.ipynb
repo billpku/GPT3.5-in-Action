{
 "cells": [
  {
   "attachments": {},
   "cell_type": "markdown",
   "metadata": {},
   "source": [
    "# Call GPT-3.5 API"
   ]
  },
  {
   "cell_type": "markdown",
   "metadata": {},
   "source": [
    "Call GPT-3.5(chatGPT) api to get the response with:\n",
    "- OpenAI library\n",
    "- (Recommend)Http request"
   ]
  },
  {
   "cell_type": "code",
   "execution_count": null,
   "metadata": {},
   "outputs": [],
   "source": []
  },
  {
   "cell_type": "markdown",
   "metadata": {},
   "source": [
    "# OpenAI Library"
   ]
  },
  {
   "cell_type": "markdown",
   "metadata": {},
   "source": [
    "- Set up api key, model, temperature\n",
    "- Set up message with role\n",
    "- Get response"
   ]
  },
  {
   "cell_type": "code",
   "execution_count": 1,
   "metadata": {},
   "outputs": [],
   "source": [
    "# OpenAI library version: 0.27.4\n",
    "import openai"
   ]
  },
  {
   "attachments": {},
   "cell_type": "markdown",
   "metadata": {},
   "source": [
    "## 1. Set up api cofniguration"
   ]
  },
  {
   "cell_type": "code",
   "execution_count": 2,
   "metadata": {},
   "outputs": [],
   "source": [
    "# Set up OpenAI API key\n",
    "openai.api_key = \"sk-XXXXXXXXXXXXXXXX\""
   ]
  },
  {
   "cell_type": "code",
   "execution_count": 3,
   "metadata": {},
   "outputs": [],
   "source": [
    "# Set MODEL to \"gpt-3.5-turbo\"\n",
    "model = \"gpt-3.5-turbo\""
   ]
  },
  {
   "cell_type": "code",
   "execution_count": 4,
   "metadata": {},
   "outputs": [],
   "source": [
    "# Set temperature to 0.9, it can be from 0~1, 0 is the most conservative, 1 is the most creative\n",
    "temperature = 0.9"
   ]
  },
  {
   "cell_type": "code",
   "execution_count": null,
   "metadata": {},
   "outputs": [],
   "source": []
  },
  {
   "cell_type": "markdown",
   "metadata": {},
   "source": [
    "## 2. Define the prompt"
   ]
  },
  {
   "attachments": {},
   "cell_type": "markdown",
   "metadata": {},
   "source": [
    "There are 3 roles:\n",
    "- system, the instruction we give to the robot first\n",
    "- user, the content we send to the robot\n",
    "- (Optional)assistant, the robot's response"
   ]
  },
  {
   "cell_type": "markdown",
   "metadata": {},
   "source": [
    "Here I will take a translation task as an example to show how to use the API. The task is to translate the following sentence from English to Japanese:"
   ]
  },
  {
   "cell_type": "code",
   "execution_count": 5,
   "metadata": {},
   "outputs": [],
   "source": [
    "# A message list to contain the messages from the user and the bot\n",
    "message_list = []"
   ]
  },
  {
   "cell_type": "code",
   "execution_count": 6,
   "metadata": {},
   "outputs": [],
   "source": [
    "# Firstly, we need to set up a instruction for the bot to follow\n",
    "system_message = {\"role\": \"system\", \"content\": \"You are a translator master, given a English sentence, you can change it to Japanese which is easy to understand and in well format.\"}\n",
    "\n",
    "message_list.append(system_message)"
   ]
  },
  {
   "cell_type": "code",
   "execution_count": 7,
   "metadata": {},
   "outputs": [],
   "source": [
    "# Secondly, we need to set up a message from the user, which is your request\n",
    "user_message = {\"role\": \"user\", \"content\": \"The baby is so cute!\"}\n",
    "\n",
    "message_list.append(user_message)"
   ]
  },
  {
   "cell_type": "code",
   "execution_count": null,
   "metadata": {},
   "outputs": [],
   "source": []
  },
  {
   "cell_type": "markdown",
   "metadata": {},
   "source": [
    "## 3. Call the OpenAI API and get the response"
   ]
  },
  {
   "cell_type": "code",
   "execution_count": 8,
   "metadata": {},
   "outputs": [],
   "source": [
    "# Send the message to the bot\n",
    "response_message = openai.ChatCompletion.create(model=model, messages=message_list, temperature=temperature)"
   ]
  },
  {
   "cell_type": "code",
   "execution_count": 10,
   "metadata": {},
   "outputs": [],
   "source": [
    "# Get the response from the bot\n",
    "response = response_message.choices[0].message.content"
   ]
  },
  {
   "cell_type": "code",
   "execution_count": 11,
   "metadata": {},
   "outputs": [
    {
     "name": "stdout",
     "output_type": "stream",
     "text": [
      "赤ちゃんはとても可愛いですね！\n",
      "(Akachan wa totemo kawaii desu ne!)\n"
     ]
    }
   ],
   "source": [
    "print(response)"
   ]
  },
  {
   "cell_type": "code",
   "execution_count": null,
   "metadata": {},
   "outputs": [],
   "source": []
  },
  {
   "cell_type": "markdown",
   "metadata": {},
   "source": [
    "# (Recommended) Call GPT-3.5 with Http Request"
   ]
  },
  {
   "attachments": {},
   "cell_type": "markdown",
   "metadata": {},
   "source": [
    "- We call directly call the GPT-3.5 API with Http request, and get the response from the API. \n",
    "- Since not all languages have official openAI library support\n",
    "- If we master how to call the API in Http request, we can call the API with any language or platform we want."
   ]
  },
  {
   "cell_type": "markdown",
   "metadata": {},
   "source": [
    "There are 3 steps to use the API:\n",
    "- Set up the API key, model, url, headers, and temperature\n",
    "- Set up the message list\n",
    "- Send the message with Http request and get the response"
   ]
  },
  {
   "cell_type": "code",
   "execution_count": null,
   "metadata": {},
   "outputs": [],
   "source": []
  },
  {
   "attachments": {},
   "cell_type": "markdown",
   "metadata": {},
   "source": [
    "## 1. Set up api cofiguration"
   ]
  },
  {
   "cell_type": "code",
   "execution_count": 21,
   "metadata": {},
   "outputs": [],
   "source": [
    "# Set up OpenAI API key\n",
    "api_key = \"sk-XXXXXXXXXXXXXXXX\"\n",
    "# With gpt-3.5-turbo model\n",
    "model = \"gpt-3.5-turbo\"\n",
    "# Temperature\n",
    "temperature = 0.9\n",
    "# OpenAI official API endpoint\n",
    "url = \"https://api.openai.com/v1/chat/completions\"\n",
    "# Headers\n",
    "headers = {\n",
    "    \"Content-Type\": \"application/json\"\n",
    "}"
   ]
  },
  {
   "cell_type": "code",
   "execution_count": null,
   "metadata": {},
   "outputs": [],
   "source": []
  },
  {
   "cell_type": "markdown",
   "metadata": {},
   "source": [
    "## 2. Define the prompt"
   ]
  },
  {
   "cell_type": "markdown",
   "metadata": {},
   "source": [
    "Here I will take a translation task as an example to show how to use the API. The task is to translate the following sentence from English to Japanese:"
   ]
  },
  {
   "cell_type": "code",
   "execution_count": 22,
   "metadata": {},
   "outputs": [],
   "source": [
    "# A message list to contain the messages from the user and the bot\n",
    "message_list = []"
   ]
  },
  {
   "cell_type": "code",
   "execution_count": 23,
   "metadata": {},
   "outputs": [],
   "source": [
    "# Firstly, we need to set up a instruction for the bot to follow\n",
    "system_message = {\"role\": \"system\", \"content\": \"You are a translator master, given a English sentence, you can change it to Japanese which is easy to understand and in well format.\"}\n",
    "\n",
    "message_list.append(system_message)"
   ]
  },
  {
   "cell_type": "code",
   "execution_count": 24,
   "metadata": {},
   "outputs": [],
   "source": [
    "# Secondly, we need to set up a message from the user, which is your request\n",
    "user_message = {\"role\": \"user\", \"content\": \"The baby is so cute!\"}\n",
    "\n",
    "message_list.append(user_message)"
   ]
  },
  {
   "cell_type": "code",
   "execution_count": null,
   "metadata": {},
   "outputs": [],
   "source": []
  },
  {
   "cell_type": "markdown",
   "metadata": {},
   "source": [
    "## 3. Send the message with Http request and get the response"
   ]
  },
  {
   "cell_type": "code",
   "execution_count": 25,
   "metadata": {},
   "outputs": [],
   "source": [
    "# Function to send the message to the bot\n",
    "import requests\n",
    "import json\n",
    "\n",
    "def send_request(messages, model, url, temperature, headers, api_key):\n",
    "    headers['Authorization'] = f\"Bearer {api_key}\"\n",
    "    \n",
    "    data = {\n",
    "        \"model\": model,\n",
    "        \"temperature\": temperature,\n",
    "        \"messages\": messages\n",
    "    }\n",
    "    \n",
    "    response = requests.post(url, headers=headers, json=data)\n",
    "    response_json = response.json()\n",
    "    \n",
    "    if response.status_code == 200:\n",
    "        content = [choice['message']['content'] for choice in response_json['choices']]\n",
    "        return content[0]\n",
    "    else:\n",
    "        raise Exception(f\"Request failed with status code {response.status_code}: {response_json}\")"
   ]
  },
  {
   "cell_type": "code",
   "execution_count": 26,
   "metadata": {},
   "outputs": [],
   "source": [
    "# Send http request to the bot\n",
    "response = send_request(message_list, model, url, temperature,headers, api_key)"
   ]
  },
  {
   "cell_type": "code",
   "execution_count": 27,
   "metadata": {},
   "outputs": [
    {
     "name": "stdout",
     "output_type": "stream",
     "text": [
      "赤ちゃんがとても可愛いですね！(Akachan ga totemo kawaii desu ne!)\n"
     ]
    }
   ],
   "source": [
    "# Print the response from the bot\n",
    "print(response)"
   ]
  },
  {
   "cell_type": "code",
   "execution_count": null,
   "metadata": {},
   "outputs": [],
   "source": []
  }
 ],
 "metadata": {
  "kernelspec": {
   "display_name": "py38",
   "language": "python",
   "name": "python3"
  },
  "language_info": {
   "codemirror_mode": {
    "name": "ipython",
    "version": 3
   },
   "file_extension": ".py",
   "mimetype": "text/x-python",
   "name": "python",
   "nbconvert_exporter": "python",
   "pygments_lexer": "ipython3",
   "version": "3.8.16"
  },
  "orig_nbformat": 4
 },
 "nbformat": 4,
 "nbformat_minor": 2
}
